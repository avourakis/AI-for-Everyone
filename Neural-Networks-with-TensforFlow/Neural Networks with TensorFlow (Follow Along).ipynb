{
 "cells": [
  {
   "cell_type": "markdown",
   "metadata": {},
   "source": [
    "Neural Networks with TensorFlow (Follow Along)\n",
    "==="
   ]
  },
  {
   "cell_type": "markdown",
   "metadata": {},
   "source": [
    "We are going to learn how to build a TensorFlow implementation of an Artificial Neural Network. More especifically, we will learn how to classify a set of images using a Convolutional Neural Network. We will cover the following sections:  \n",
    "\n",
    "1. A very simple MNIST Classifier\n",
    "2. Visualizing our Results\n",
    "3. tf.layers\n",
    "\n",
    "**Note:** This document is part of the \"Neural Networks with TensorFlow\" workshop, which is meant to accompany these [slides](https://docs.google.com/presentation/d/185r0vPc4gzE_-4dOsjy0JmO8qk2M7BBm2Uhqg5tAF7E/edit?usp=sharing). The main source for this notebook is https://www.tensorflow.org/get_started/mnist/beginners. For more information please visit [AI for Everyone!](http://andresvourakis.com/ai-for-everyone)"
   ]
  },
  {
   "cell_type": "markdown",
   "metadata": {},
   "source": [
    "A very simple MNIST Classifier\n",
    "---\n",
    "\n",
    "In this section we will create a **softmax regression** function that is a model for recognizing MNIST digits, based on looking at every pixel in the image.\n",
    "\n",
    "![](https://www.tensorflow.org/images/MNIST.png)"
   ]
  },
  {
   "cell_type": "code",
   "execution_count": 2,
   "metadata": {},
   "outputs": [],
   "source": [
    "# Imports\n",
    "\n",
    "# Create Model\n",
    "\n",
    "# Define Loss and Optimizer\n",
    "\n",
    "# Train\n",
    "\n",
    "# Test Trained Model"
   ]
  },
  {
   "cell_type": "markdown",
   "metadata": {},
   "source": [
    "Visualizing our results\n",
    "---"
   ]
  },
  {
   "cell_type": "code",
   "execution_count": null,
   "metadata": {},
   "outputs": [],
   "source": []
  },
  {
   "cell_type": "markdown",
   "metadata": {},
   "source": [
    "Let's dive a little deeper (tf.layers)\n",
    "---\n"
   ]
  },
  {
   "cell_type": "markdown",
   "metadata": {},
   "source": [
    "What if we wanted to build an Artificial Neural Network from scratch? Well, TensorFlow provides us with **tf.layers**, a set of high-level neural networks layers.\n",
    "\n",
    "One of the most popular techniques used in improving the accuracy of image classification is Convolutional Neural Networks, let's see how one would go about using **tf.layers** to do that."
   ]
  },
  {
   "cell_type": "code",
   "execution_count": null,
   "metadata": {},
   "outputs": [],
   "source": []
  }
 ],
 "metadata": {
  "kernelspec": {
   "display_name": "Python 3",
   "language": "python",
   "name": "python3"
  },
  "language_info": {
   "codemirror_mode": {
    "name": "ipython",
    "version": 3
   },
   "file_extension": ".py",
   "mimetype": "text/x-python",
   "name": "python",
   "nbconvert_exporter": "python",
   "pygments_lexer": "ipython3",
   "version": "3.6.3"
  }
 },
 "nbformat": 4,
 "nbformat_minor": 2
}
