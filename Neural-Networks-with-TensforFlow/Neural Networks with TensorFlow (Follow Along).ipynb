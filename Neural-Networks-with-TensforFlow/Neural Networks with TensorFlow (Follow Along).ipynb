{
 "cells": [
  {
   "cell_type": "markdown",
   "metadata": {},
   "source": [
    "Neural Networks with TensorFlow (Follow Along)\n",
    "==="
   ]
  },
  {
   "cell_type": "markdown",
   "metadata": {},
   "source": [
    "We are going to learn how to build a TensorFlow implementation of an Artificial Neural Network. More especifically, we will learn how to classify a set of images using a Convolutional Neural Network. We will cover the following sections:  \n",
    "\n",
    "1. A very simple MNIST Classifier\n",
    "2. Visualizing our Results\n",
    "3. tf.layers\n",
    "\n",
    "**Note:** This document is part of the \"Neural Networks with TensorFlow\" workshop, which is meant to accompany these [slides](https://docs.google.com/presentation/d/185r0vPc4gzE_-4dOsjy0JmO8qk2M7BBm2Uhqg5tAF7E/edit?usp=sharing). The main source for this notebook is https://www.tensorflow.org/get_started/mnist/beginners. For more information please visit [AI for Everyone!](http://andresvourakis.com/ai-for-everyone)"
   ]
  },
  {
   "cell_type": "markdown",
   "metadata": {},
   "source": [
    "A very simple MNIST Classifier\n",
    "---\n",
    "\n",
    "In this section we will create a **softmax regression** function that is a model for recognizing MNIST digits, based on looking at every pixel in the image.\n",
    "\n",
    "![](https://www.tensorflow.org/images/MNIST.png)"
   ]
  },
  {
   "cell_type": "code",
   "execution_count": 1,
   "metadata": {},
   "outputs": [],
   "source": [
    "from __future__ import absolute_import\n",
    "from __future__ import division\n",
    "from __future__ import print_function\n",
    "\n",
    "# Imports\n",
    "\n",
    "# Import dataset\n",
    "\n",
    "# Create Model\n",
    "\n",
    "# Define Loss and Optimizer\n",
    "\n",
    "# Train\n",
    "\n",
    "# Test Trained Model"
   ]
  },
  {
   "cell_type": "markdown",
   "metadata": {},
   "source": [
    "Visualizing our results\n",
    "---"
   ]
  },
  {
   "cell_type": "code",
   "execution_count": null,
   "metadata": {},
   "outputs": [],
   "source": [
    "def visualize_weights():\n",
    "    for i in range(10):\n",
    "        plt.subplot(2, 5, i+1)\n",
    "        weight = sess.run(W)[:,i]\n",
    "        plt.title(i)\n",
    "        plt.imshow(weight.reshape([28,28]), cmap=plt.get_cmap('seismic'))\n",
    "        frame1 = plt.gca()\n",
    "        frame1.axes.get_xaxis().set_visible(False)\n",
    "        frame1.axes.get_yaxis().set_visible(False) \n",
    "    plt.show()\n",
    "\n",
    "def compare_prediction(num):\n",
    "    # Load test example\n",
    "    x_train = mnist.test.images[num,:].reshape(1,784)\n",
    "    y_train = mnist.test.labels[num,:]\n",
    "    \n",
    "    # Get label as integer\n",
    "    label = y_train.argmax()\n",
    "    \n",
    "    # Get prediction as integer\n",
    "    prediction = sess.run(y_, feed_dict={x: x_train}).argmax() \n",
    "    \n",
    "    plt.title('Prediction: %d Label: %d' % (prediction, label))\n",
    "    plt.imshow(x_train.reshape([28,28]), cmap=plt.get_cmap('gray_r'))\n",
    "    plt.show()\n",
    "        "
   ]
  },
  {
   "cell_type": "code",
   "execution_count": null,
   "metadata": {},
   "outputs": [],
   "source": [
    "# Visualize the weights\n"
   ]
  },
  {
   "cell_type": "code",
   "execution_count": null,
   "metadata": {},
   "outputs": [],
   "source": [
    "# Compare prediction with label\n"
   ]
  },
  {
   "cell_type": "markdown",
   "metadata": {},
   "source": [
    "Let's dive a little deeper (tf.layers)\n",
    "---\n"
   ]
  },
  {
   "cell_type": "markdown",
   "metadata": {},
   "source": [
    "What if we wanted to build an Artificial Neural Network from scratch? Well, TensorFlow provides us with **tf.layers**, a set of high-level neural networks layers.\n",
    "\n",
    "One of the most popular techniques used in improving the accuracy of image classification is Convolutional Neural Networks, let's see how one would go about using **tf.layers** to do that."
   ]
  },
  {
   "cell_type": "markdown",
   "metadata": {},
   "source": [
    "1. **tf.layers.conv2d()**  \n",
    "Constructs a two-dimensional convolutional layer. Takes number of filters, filter kernel size, padding, and activation function as arguments.\n",
    "\n",
    "2. **tf.layers.max_pooling2d()**  \n",
    "Constructs a two-dimensional pooling layer using the max-pooling algorithm. Takes pooling filter size and stride as arguments.\n",
    "\n",
    "3. **tf.layers.dense()**  \n",
    "Constructs a dense layer. Takes number of neurons and activation function as arguments."
   ]
  },
  {
   "cell_type": "markdown",
   "metadata": {},
   "source": [
    "Let's review this Convolutional Neural Network model\n",
    "---"
   ]
  },
  {
   "cell_type": "markdown",
   "metadata": {},
   "source": [
    "![](https://ujwlkarn.files.wordpress.com/2016/08/screen-shot-2016-08-07-at-4-59-29-pm.png?w=748)"
   ]
  },
  {
   "cell_type": "code",
   "execution_count": null,
   "metadata": {},
   "outputs": [],
   "source": [
    "def cnn_model_fn(features, labels, mode):\n",
    "  \"\"\"Model function for CNN.\"\"\"\n",
    "  # Input Layer\n",
    "  input_layer = tf.reshape(features[\"x\"], [-1, 28, 28, 1]) # [batch_size, image_width, image_height, channels]\n",
    "\n",
    "  # Convolutional Layer #1\n",
    "  # Extract features from input image    \n",
    "  conv1 = tf.layers.conv2d(\n",
    "      inputs=input_layer,\n",
    "      filters=32,\n",
    "      kernel_size=[5, 5],\n",
    "      padding=\"same\",\n",
    "      activation=tf.nn.relu) # Introduce Non-linearity\n",
    "\n",
    "  #Pooling Layer #1\n",
    "  # Reduce Dimensionality and extract most important features\n",
    "  pool1 = tf.layers.max_pooling2d(inputs=conv1, pool_size=[2, 2], strides=2)\n",
    "\n",
    "  # Convolutional Layer #2 and Pooling Layer #2\n",
    "  # Extract more features and reduce dimensionality    \n",
    "  conv2 = tf.layers.conv2d(\n",
    "      inputs=pool1,\n",
    "      filters=64,\n",
    "      kernel_size=[5, 5],\n",
    "      padding=\"same\",\n",
    "      activation=tf.nn.relu)\n",
    "  pool2 = tf.layers.max_pooling2d(inputs=conv2, pool_size=[2, 2], strides=2)\n",
    "\n",
    "  # Dense Layer\n",
    "  # Look at all features extracted and perform Classification   \n",
    "  pool2_flat = tf.reshape(pool2, [-1, 7 * 7 * 64])\n",
    "  dense = tf.layers.dense(inputs=pool2_flat, units=1024, activation=tf.nn.relu)\n",
    "  dropout = tf.layers.dropout(\n",
    "      inputs=dense, rate=0.4, training=mode == tf.estimator.ModeKeys.TRAIN)\n",
    "\n",
    "  # Logits Layer\n",
    "  logits = tf.layers.dense(inputs=dropout, units=10)\n",
    "\n",
    "  predictions = {\n",
    "      # Generate predictions (for PREDICT and EVAL mode)\n",
    "      \"classes\": tf.argmax(input=logits, axis=1),\n",
    "      # Add `softmax_tensor` to the graph. It is used for PREDICT and by the\n",
    "      # `logging_hook`.\n",
    "      \"probabilities\": tf.nn.softmax(logits, name=\"softmax_tensor\")\n",
    "  }\n",
    "\n",
    "  if mode == tf.estimator.ModeKeys.PREDICT:\n",
    "    return tf.estimator.EstimatorSpec(mode=mode, predictions=predictions)\n",
    "\n",
    "  # Calculate Loss (for both TRAIN and EVAL modes)\n",
    "  onehot_labels = tf.one_hot(indices=tf.cast(labels, tf.int32), depth=10)\n",
    "  loss = tf.losses.softmax_cross_entropy(\n",
    "      onehot_labels=onehot_labels, logits=logits)\n",
    "\n",
    "  # Configure the Training Op (for TRAIN mode)\n",
    "  if mode == tf.estimator.ModeKeys.TRAIN:\n",
    "    optimizer = tf.train.GradientDescentOptimizer(learning_rate=0.001)\n",
    "    train_op = optimizer.minimize(\n",
    "        loss=loss,\n",
    "        global_step=tf.train.get_global_step())\n",
    "    return tf.estimator.EstimatorSpec(mode=mode, loss=loss, train_op=train_op)\n",
    "\n",
    "  # Add evaluation metrics (for EVAL mode)\n",
    "  eval_metric_ops = {\n",
    "      \"accuracy\": tf.metrics.accuracy(\n",
    "          labels=labels, predictions=predictions[\"classes\"])}\n",
    "  return tf.estimator.EstimatorSpec(\n",
    "      mode=mode, loss=loss, eval_metric_ops=eval_metric_ops)"
   ]
  },
  {
   "cell_type": "markdown",
   "metadata": {},
   "source": [
    "For more infomation see https://www.tensorflow.org/tutorials/layers"
   ]
  }
 ],
 "metadata": {
  "kernelspec": {
   "display_name": "Python 3",
   "language": "python",
   "name": "python3"
  },
  "language_info": {
   "codemirror_mode": {
    "name": "ipython",
    "version": 3
   },
   "file_extension": ".py",
   "mimetype": "text/x-python",
   "name": "python",
   "nbconvert_exporter": "python",
   "pygments_lexer": "ipython3",
   "version": "3.6.3"
  }
 },
 "nbformat": 4,
 "nbformat_minor": 2
}
